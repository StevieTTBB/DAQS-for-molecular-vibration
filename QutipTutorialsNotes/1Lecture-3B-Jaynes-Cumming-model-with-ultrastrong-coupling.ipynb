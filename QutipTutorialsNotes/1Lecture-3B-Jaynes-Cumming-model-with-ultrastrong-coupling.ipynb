{
  "cells": [
    {
      "cell_type": "markdown",
      "id": "2c63cb51",
      "metadata": {},
      "source": [
        "# Lecture 3B - Jaynes-Cummings-like model in the ultrastrong coupling regime"
      ]
    },
    {
      "cell_type": "markdown",
      "id": "35c57795",
      "metadata": {},
      "source": [
        "Author: J. R. Johansson (robert@riken.jp), https://jrjohansson.github.io/\n",
        "\n",
        "This lecture series was developed by J.R. Johannson. The original lecture notebooks are available [here](https://github.com/jrjohansson/qutip-lectures).\n",
        "\n",
        "This is a slightly modified version of the lectures, to work with the current release of QuTiP. You can find these lectures as a part of the [qutip-tutorials repository](https://github.com/qutip/qutip-tutorials). This lecture and other tutorial notebooks are indexed at the [QuTiP Tutorial webpage](https://qutip.org/tutorials.html)."
      ]
    },
    {
      "cell_type": "code",
      "execution_count": null,
      "id": "9b1b997e",
      "metadata": {},
      "outputs": [],
      "source": [
        "import matplotlib as mpl\n",
        "import matplotlib.pyplot as plt\n",
        "import numpy as np\n",
        "from qutip import (about, basis, destroy, entropy_vn, expect, mesolve, ptrace,\n",
        "                   qeye, tensor, wigner)\n",
        "\n",
        "%matplotlib inline"
      ]
    },
    {
      "cell_type": "markdown",
      "id": "8dccbe59",
      "metadata": {},
      "source": [
        "# Introduction\n",
        "\n",
        "In the **Jaynes-Cumming model**, **the dipole-interaction term** between the atom and the cavity field <u>is assumed to be weak</u>, so that **a rotating-wave approximation** <u>can be performed</u>. *For large coupling strengths* between the atom and the cavity field the RWA is not justified, and *for very large coupling strength* interesting properties of the atom-cavity ground state is observed.\n",
        "\n",
        "To explore this using QuTiP, consider the Hamiltonian\n",
        "\n",
        "#### $$H = \\hbar \\omega_c a^\\dagger a + \\frac{1}{2}\\hbar\\omega_a\\sigma_z + \\hbar g(a^\\dagger + a)(\\sigma_- + \\sigma_+)$$\n",
        "\n",
        "<u>Note that here we have not transformed the interaction part of the Hamiltonian using the RWA</u>, for which the Hamiltonian with **RWA** would have been\n",
        "\n",
        "#### $$H_{\\rm RWA} = \\hbar \\omega_c a^\\dagger a + \\frac{1}{2}\\hbar\\omega_a\\sigma_z + \\hbar g(a^\\dagger\\sigma_- + a\\sigma_+)$$\n",
        "\n",
        "In this notebook we will <u>calculate the ground state of the Hamiltonian $H$ as a function of the interaction strength $g$</u> **(try to set `use_rwa = True` to use $H_{\\rm RWA}$ instead)**.\n",
        "\n",
        "<u>The regime $g$ is large compared with all other energy scales in the Hamiltonian $H$</u> is called **the ultrastrong coupling regime**, and has been an active topic of research in recent years. See references below.\n",
        "\n",
        "\n",
        "References:\n",
        "\n",
        " * [P. Nataf et al., Phys. Rev. Lett. 104, 023601 (2010)](https://journals.aps.org/prl/abstract/10.1103/PhysRevLett.104.023601)\n",
        "\n",
        " * [J. Casanova et al., Phys. Rev. Lett. 105, 26360 (2010)](https://journals.aps.org/prl/abstract/10.1103/PhysRevLett.105.263603).\n",
        "\n",
        " * [S. Ashhab et al., Phys. Rev. A 81, 042311 (2010)](https://journals.aps.org/pra/abstract/10.1103/PhysRevA.81.042311)"
      ]
    },
    {
      "cell_type": "markdown",
      "id": "d3ed4c7d",
      "metadata": {},
      "source": [
        "### Problem parameters\n",
        "\n",
        "\n",
        "Here we use units where $\\hbar = 1$: "
      ]
    },
    {
      "cell_type": "code",
      "execution_count": null,
      "id": "496dd70e",
      "metadata": {},
      "outputs": [],
      "source": [
        "wc = 1.0 * 2 * np.pi  # cavity frequency\n",
        "wa = 1.0 * 2 * np.pi  # atom frequency\n",
        "\n",
        "N = 15  # number of cavity fock states\n",
        "use_rwa = False  # the use of rwa is not activated\n",
        "# use_rwa = True   # the use of rwa is activated"
      ]
    },
    {
      "cell_type": "markdown",
      "id": "be3cdf2d",
      "metadata": {},
      "source": [
        "### Setup the operators and the Hamiltonian"
      ]
    },
    {
      "cell_type": "code",
      "execution_count": null,
      "id": "47c3dcb6",
      "metadata": {},
      "outputs": [],
      "source": [
        "# operators\n",
        "a = tensor(destroy(N), qeye(2))\n",
        "sm = tensor(qeye(N), destroy(2))\n",
        "\n",
        "na = sm.dag() * sm  # atom\n",
        "nc = a.dag() * a  # cavity\n",
        "\n",
        "# decoupled Hamiltonian\n",
        "H0 = wc * a.dag() * a + wa * sm.dag() * sm  # a coeffcient 1/2 is missing ?\n",
        "\n",
        "# interaction Hamiltonian\n",
        "if use_rwa:\n",
        "    H1 = a.dag() * sm + a * sm.dag()\n",
        "else:\n",
        "    H1 = (a.dag() + a) * (sm + sm.dag())"
      ]
    },
    {
      "cell_type": "markdown",
      "id": "856820bf",
      "metadata": {},
      "source": [
        "## Find ground state as a function of coupling strength"
      ]
    },
    {
      "cell_type": "code",
      "execution_count": null,
      "id": "1c0913e6",
      "metadata": {},
      "outputs": [],
      "source": [
        "np.linspace(0, 2.0, 101) "
      ]
    },
    {
      "cell_type": "code",
      "execution_count": null,
      "id": "059e5dce",
      "metadata": {},
      "outputs": [],
      "source": [
        "g_vec = np.linspace(0, 2.0, 101) * 2 * np.pi  # coupling strength vector\n",
        "\n",
        "psi_list = []\n",
        "\n",
        "for g in g_vec:\n",
        "\n",
        "    H = H0 + g * H1\n",
        "\n",
        "    # find the groundstate and its energy\n",
        "    gnd_energy, gnd_state = H.groundstate()\n",
        "\n",
        "    # store the ground state\n",
        "    psi_list.append(gnd_state)"
      ]
    },
    {
      "cell_type": "markdown",
      "id": "a587a329",
      "metadata": {},
      "source": [
        "Calculate **the cavity and atom excitation probabilities** as for the calculated ground states:"
      ]
    },
    {
      "cell_type": "code",
      "execution_count": null,
      "id": "00a74b23",
      "metadata": {},
      "outputs": [],
      "source": [
        "na_expt = expect(na, psi_list)  # qubit  occupation probability\n",
        "nc_expt = expect(nc, psi_list)  # cavity occupation probability"
      ]
    },
    {
      "cell_type": "markdown",
      "id": "dec9d4e7",
      "metadata": {},
      "source": [
        "<u>Plot the ground state occupation probabilities of the cavity and the atom as a function of coupling strenght.</u> Note that *for large coupling strength (the ultrastrong coupling regime, where $g > \\omega_a,\\omega_c$, indicating the coupling/interaction term is **the determinant term** in the $H_{rwa}$ for it has the majority of the weights - **this perspective is required to be verified**)*, **the ground state** <u>has both photonic and atomic excitations</u>."
      ]
    },
    {
      "cell_type": "code",
      "execution_count": null,
      "id": "957e048c",
      "metadata": {},
      "outputs": [],
      "source": [
        "fig, axes = plt.subplots(1, 1, sharex=True, figsize=(8, 4))\n",
        "\n",
        "axes.plot(g_vec / (2 * np.pi), nc_expt, \"r\", linewidth=2, label=\"cavity\")\n",
        "axes.plot(g_vec / (2 * np.pi), na_expt, \"b\", linewidth=2, label=\"atom\")\n",
        "axes.set_ylabel(\"Occupation probability\", fontsize=12)\n",
        "axes.set_xlabel(\"coupling strength\", fontsize=12)\n",
        "axes.legend(loc=0)\n",
        "\n",
        "fig.tight_layout()"
      ]
    },
    {
      "cell_type": "markdown",
      "id": "9db90c4e",
      "metadata": {},
      "source": [
        "# Plot **the wigner functions of the cavity** as a function of coupling strength\n",
        " >The Wigner functions of the cavity reflect the time evolution of the interaction between the cavity and atom."
      ]
    },
    {
      "cell_type": "code",
      "execution_count": null,
      "id": "bbc125b4",
      "metadata": {},
      "outputs": [],
      "source": [
        "g_idx = np.where([g_vec == 2 * np.pi * g for\n",
        "                  g in [0.0, 0.5, 1.0, 1.5, 2.0]])[1]\n",
        "psi_sublist = []\n",
        "for idx in g_idx:\n",
        "    psi_sublist.append(psi_list[idx])\n",
        "\n",
        "xvec = np.linspace(-5, 5, 200)\n",
        "\n",
        "fig_grid = (2, len(psi_sublist) * 2)\n",
        "fig = plt.figure(figsize=(3 * len(psi_sublist), 6))\n",
        "\n",
        "for idx, psi in enumerate(psi_sublist):\n",
        "    rho_cavity = ptrace(psi, 0)\n",
        "    W = wigner(rho_cavity, xvec, xvec)   # here, yvec == xvec\n",
        "    ax = plt.subplot2grid(fig_grid, (0, 2 * idx), colspan=2)\n",
        "    ax.contourf(\n",
        "        xvec,\n",
        "        xvec,\n",
        "        W,\n",
        "        100,\n",
        "        norm=mpl.colors.Normalize(-0.125, 0.125),\n",
        "        cmap=plt.get_cmap(\"RdBu\"),\n",
        "    )\n",
        "    ax.set_title(r\"$g = %.1f$\" % (g_vec[g_idx][idx] / (2 * np.pi)),\n",
        "                 fontsize=16)\n",
        "\n",
        "# plot the cavity occupation probability in the ground state\n",
        "ax = plt.subplot2grid(fig_grid, (1, 1), colspan=(fig_grid[1] - 2))\n",
        "ax.plot(g_vec / (2 * np.pi), nc_expt, label=\"Cavity\")\n",
        "ax.plot(g_vec / (2 * np.pi), na_expt, label=\"Atom excited state\")\n",
        "ax.legend(loc=0)\n",
        "ax.set_xlabel(\"coupling strength\")\n",
        "ax.set_ylabel(\"Occupation probability\");"
      ]
    },
    {
      "cell_type": "markdown",
      "id": "8ddd9786",
      "metadata": {},
      "source": [
        "## **Entropy of atom/cavity** as a measure of entanglement"
      ]
    },
    {
      "cell_type": "code",
      "execution_count": null,
      "id": "3cca9495",
      "metadata": {},
      "outputs": [],
      "source": [
        "entropy_cavity = np.zeros(g_vec.shape)\n",
        "entropy_atom = np.zeros(g_vec.shape)\n",
        "\n",
        "print(entropy_cavity)\n",
        "print(\"---\")\n",
        "print(entropy_atom)\n",
        "\n",
        "for idx, psi in enumerate(psi_list):\n",
        "\n",
        "    rho_cavity = ptrace(psi, 0)\n",
        "    entropy_cavity[idx] = entropy_vn(rho_cavity, 2)\n",
        "\n",
        "    rho_atom = ptrace(psi, 1)\n",
        "    entropy_atom[idx] = entropy_vn(rho_atom, 2)\n",
        "\n",
        "print(\"---\")\n",
        "print(entropy_cavity)\n",
        "print(\"---\")\n",
        "print(entropy_atom)"
      ]
    },
    {
      "cell_type": "code",
      "execution_count": null,
      "id": "1fe51500",
      "metadata": {},
      "outputs": [],
      "source": [
        "fig, axes = plt.subplots(1, 1, figsize=(5, 4))\n",
        "axes.plot(g_vec / (2 * np.pi), entropy_cavity, \"b\", label=\"cavity\",\n",
        "          linewidth=2)\n",
        "axes.plot(g_vec / (2 * np.pi), entropy_atom, \"r--\", label=\"atom\", linewidth=2)\n",
        "axes.set_ylim(0, 1)\n",
        "axes.set_ylabel(\"entropy\", fontsize=12)\n",
        "axes.set_xlabel(\"coupling strength\", fontsize=12)\n",
        "axes.legend(loc=0);"
      ]
    },
    {
      "cell_type": "markdown",
      "id": "fbfdf5c0",
      "metadata": {},
      "source": [
        "## Dynamics of an initially excited cavity"
      ]
    },
    {
      "cell_type": "code",
      "execution_count": null,
      "id": "0b0f9070",
      "metadata": {},
      "outputs": [],
      "source": [
        "H = H0 + 1.0 * 2 * np.pi * H1\n",
        "\n",
        "psi0 = tensor(basis(N, 1), basis(2, 0))"
      ]
    },
    {
      "cell_type": "code",
      "execution_count": null,
      "id": "4fb06323",
      "metadata": {},
      "outputs": [],
      "source": [
        "tlist = np.linspace(0, 20, 1000)\n",
        "output = mesolve(H, psi0, tlist, [], [a.dag() * a, sm.dag() * sm])   # here, c_ops is None; \n",
        "                                                                     # e_ops is [a.dag() * a, sm.dag() * sm],\n",
        "                                                                     # so it is aimed to find expect valuies \n",
        "                                                                     # of the cavity and the atom respectively themselves."
      ]
    },
    {
      "cell_type": "markdown",
      "id": "943e7025",
      "metadata": {},
      "source": [
        ">**The perspective about 5th argument of `output` within the # above is needed to be verified.** "
      ]
    },
    {
      "cell_type": "code",
      "execution_count": null,
      "id": "f5c49089",
      "metadata": {},
      "outputs": [],
      "source": [
        "fig, axes = plt.subplots(1, 1, sharex=True, figsize=(12, 6))\n",
        "\n",
        "axes.plot(tlist, np.real(output.expect[0]), \"r\", linewidth=2, label=\"cavity\")\n",
        "axes.plot(tlist, np.real(output.expect[1]), \"b\", linewidth=2, label=\"atom\")\n",
        "axes.legend(loc=0)\n",
        "axes.set_ylabel(\"expect values\", fontsize=12)\n",
        "axes.set_xlabel(\"time\", fontsize=12)\n",
        "\n",
        "fig.tight_layout()\n"
      ]
    },
    {
      "cell_type": "markdown",
      "id": "0125ceb5",
      "metadata": {},
      "source": [
        "### **Fock-state distribution and Wigner function for the cavity** as a function of time"
      ]
    },
    {
      "cell_type": "code",
      "execution_count": null,
      "id": "ad2c62b9",
      "metadata": {},
      "outputs": [],
      "source": [
        "tlist = np.linspace(0, 0.35, 8)\n",
        "output = mesolve(H, psi0, tlist, [], [])   # no conditions on c_ops and e_ops."
      ]
    },
    {
      "cell_type": "code",
      "execution_count": null,
      "id": "519e060d",
      "metadata": {},
      "outputs": [],
      "source": [
        "rho_ss_sublist = output.states  # [::4]\n",
        "# print(rho_ss_sublist)\n",
        "\n",
        "xvec = np.linspace(-5, 5, 200)\n",
        "\n",
        "fig, axes = plt.subplots(2, len(rho_ss_sublist),\n",
        "                         figsize=(2 * len(rho_ss_sublist), 4))\n",
        "\n",
        "for idx, rho_ss in enumerate(rho_ss_sublist):\n",
        "\n",
        "    # trace out the cavity density matrix\n",
        "    # trace out: 指对量子系统的部分自由度求偏迹 (partial trace)，\n",
        "    # 即忽略或消除某个子系统的信息，只保留剩余子系统的约化密度矩阵。\n",
        "    rho_ss_cavity = ptrace(rho_ss, 0)\n",
        "\n",
        "    # calculate its wigner function\n",
        "    W = wigner(rho_ss_cavity, xvec, xvec)\n",
        "\n",
        "    # plot its wigner function\n",
        "    axes[0, idx].contourf(\n",
        "        xvec,\n",
        "        xvec,\n",
        "        W,\n",
        "        100,\n",
        "        norm=mpl.colors.Normalize(-0.25, 0.25),\n",
        "        cmap=plt.get_cmap(\"RdBu\"),\n",
        "    )\n",
        "\n",
        "    # plot its fock-state distribution\n",
        "    axes[1, idx].bar(\n",
        "        np.arange(0, N), np.real(rho_ss_cavity.diag()), color=\"blue\", alpha=0.6\n",
        "    )\n",
        "    axes[1, idx].set_ylim(0, 1)\n",
        "    axes[1, idx].set_xlim(0, N)"
      ]
    },
    {
      "cell_type": "markdown",
      "id": "b6757989",
      "metadata": {},
      "source": [
        "### Same thing **with a little bit of dissipation**"
      ]
    },
    {
      "cell_type": "code",
      "execution_count": null,
      "id": "2c5ef51a",
      "metadata": {},
      "outputs": [],
      "source": [
        "kappa = 0.25"
      ]
    },
    {
      "cell_type": "code",
      "execution_count": null,
      "id": "c23991ef",
      "metadata": {},
      "outputs": [],
      "source": [
        "tlist = np.linspace(0, 20, 1000)\n",
        "output = mesolve(H, psi0, tlist, [np.sqrt(kappa) * a],   # c_ops is [np.sqrt(kappa) * a] --> decides how fast to dissipate/collapse \n",
        "                 [a.dag() * a, sm.dag() * sm])           # e_ops is [a.dag() * a, sm.dag() * sm]"
      ]
    },
    {
      "cell_type": "markdown",
      "id": "f1a54e1e",
      "metadata": {},
      "source": [
        "> The perspective about 4th and 5th arguments of `output` above is needed to be verified."
      ]
    },
    {
      "cell_type": "code",
      "execution_count": null,
      "id": "dc78da45",
      "metadata": {},
      "outputs": [],
      "source": [
        "fig, axes = plt.subplots(1, 1, sharex=True, figsize=(8, 4))\n",
        "axes.plot(tlist, output.expect[0], \"r\", linewidth=2, label=\"cavity\")\n",
        "axes.plot(tlist, output.expect[1], \"b\", linewidth=2, label=\"atom\")\n",
        "axes.set_ylabel(\"expect values\", fontsize=12)\n",
        "axes.set_xlabel(\"time\", fontsize=12)\n",
        "axes.legend(loc=0);"
      ]
    },
    {
      "cell_type": "code",
      "execution_count": null,
      "id": "521e6470",
      "metadata": {},
      "outputs": [],
      "source": [
        "tlist = np.linspace(0, 10, 8)\n",
        "output = mesolve(H, psi0, tlist, [np.sqrt(kappa) * a], [])   # 5th argement - e_ops is None --> not specify to the cavity or the atom."
      ]
    },
    {
      "cell_type": "code",
      "execution_count": null,
      "id": "df05fa56",
      "metadata": {},
      "outputs": [],
      "source": [
        "xvec = np.linspace(-5, 5, 200)\n",
        "\n",
        "fig, axes = plt.subplots(2, len(output.states),\n",
        "                         figsize=(2 * len(output.states), 4))\n",
        "\n",
        "\n",
        "for idx, rho_ss in enumerate(output.states):\n",
        "\n",
        "    # trace out the cavity density matrix\n",
        "    rho_ss_cavity = ptrace(rho_ss, 0)\n",
        "\n",
        "    # calculate its wigner function\n",
        "    W = wigner(rho_ss_cavity, xvec, xvec)\n",
        "\n",
        "    # plot its wigner function\n",
        "    axes[0, idx].contourf(\n",
        "        xvec,\n",
        "        xvec,\n",
        "        W,\n",
        "        100,\n",
        "        norm=mpl.colors.Normalize(-0.25, 0.25),\n",
        "        cmap=plt.get_cmap(\"RdBu\"),\n",
        "    )\n",
        "\n",
        "    # plot its fock-state distribution\n",
        "    axes[1, idx].bar(\n",
        "        np.arange(0, N), np.real(rho_ss_cavity.diag()), color=\"blue\", alpha=0.6\n",
        "    )\n",
        "    axes[1, idx].set_ylim(0, 1)\n",
        "    axes[1, idx].set_xlim(0, N)"
      ]
    },
    {
      "cell_type": "markdown",
      "id": "e72db341",
      "metadata": {},
      "source": [
        "### **Entropy** as a function of time <u>in presence of dissipation and starting in the ideal ground state</u>"
      ]
    },
    {
      "cell_type": "code",
      "execution_count": null,
      "id": "caafee76",
      "metadata": {},
      "outputs": [],
      "source": [
        "tlist = np.linspace(0, 30, 50)\n",
        "\n",
        "psi0 = H.groundstate()[1]\n",
        "\n",
        "output = mesolve(H, psi0, tlist, [np.sqrt(kappa) * a], [])"
      ]
    },
    {
      "cell_type": "code",
      "execution_count": null,
      "id": "fb9d544b",
      "metadata": {},
      "outputs": [],
      "source": [
        "entropy_tot = np.zeros(tlist.shape)\n",
        "entropy_cavity = np.zeros(tlist.shape)\n",
        "entropy_atom = np.zeros(tlist.shape)\n",
        "\n",
        "# print(entropy_tot)\n",
        "# print(\"---\")\n",
        "\n",
        "for idx, rho in enumerate(output.states):\n",
        "\n",
        "    entropy_tot[idx] = entropy_vn(rho, 2)\n",
        "\n",
        "    rho_cavity = ptrace(rho, 0)\n",
        "    entropy_cavity[idx] = entropy_vn(rho_cavity, 2)\n",
        "\n",
        "    rho_atom = ptrace(rho, 1)\n",
        "    entropy_atom[idx] = entropy_vn(rho_atom, 2)\n",
        "\n",
        "# print(entropy_tot)"
      ]
    },
    {
      "cell_type": "code",
      "execution_count": null,
      "id": "e1a95f98",
      "metadata": {},
      "outputs": [],
      "source": [
        "fig, axes = plt.subplots(1, 1, figsize=(8, 4))\n",
        "axes.plot(tlist, entropy_tot, \"k\", label=\"total\", linewidth=2)\n",
        "axes.plot(tlist, entropy_cavity, \"b\", label=\"cavity\", linewidth=2)\n",
        "axes.plot(tlist, entropy_atom, \"r--\", label=\"atom\", linewidth=2)\n",
        "axes.set_ylabel(\"entropy\", fontsize=16)\n",
        "axes.set_xlabel(\"coupling strength\", fontsize=16)\n",
        "axes.set_ylim(0, 1.5)\n",
        "axes.legend(loc=0);"
      ]
    },
    {
      "cell_type": "markdown",
      "id": "88746410",
      "metadata": {},
      "source": [
        "> But what is the role of the entropy as a function of time here?<br>\n",
        "> Does it act as a metric on the complexity for simulating the interaction between the cavity and the atom?<br>\n",
        "> Theoretically, it may suggest we should control the entropy within a properly low level, since it may simplify the difficulties of our simulation tasks."
      ]
    },
    {
      "cell_type": "markdown",
      "id": "e1ef218b",
      "metadata": {},
      "source": [
        "### Software versions"
      ]
    },
    {
      "cell_type": "code",
      "execution_count": null,
      "id": "d87f0b68",
      "metadata": {},
      "outputs": [],
      "source": [
        "about()"
      ]
    },
    {
      "cell_type": "code",
      "execution_count": null,
      "id": "2d02d838",
      "metadata": {},
      "outputs": [],
      "source": []
    }
  ],
  "metadata": {
    "jupytext": {
      "cell_metadata_filter": "-all",
      "notebook_metadata_filter": "-jupytext.cell_metadata_filter,-jupytext.notebook_metadata_filter"
    },
    "kernelspec": {
      "display_name": "qutip_env",
      "language": "python",
      "name": "python3"
    },
    "language_info": {
      "codemirror_mode": {
        "name": "ipython",
        "version": 3
      },
      "file_extension": ".py",
      "mimetype": "text/x-python",
      "name": "python",
      "nbconvert_exporter": "python",
      "pygments_lexer": "ipython3",
      "version": "3.13.5"
    }
  },
  "nbformat": 4,
  "nbformat_minor": 5
}
